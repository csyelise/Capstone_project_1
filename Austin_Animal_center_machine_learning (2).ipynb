{
 "cells": [
  {
   "cell_type": "markdown",
   "metadata": {},
   "source": [
    "# Austin_Animal_Center_Machine_Learning"
   ]
  },
  {
   "cell_type": "code",
   "execution_count": 267,
   "metadata": {},
   "outputs": [],
   "source": [
    "import pandas as pd\n",
    "import matplotlib.pyplot as plt\n",
    "import numpy as np\n"
   ]
  },
  {
   "cell_type": "code",
   "execution_count": 268,
   "metadata": {},
   "outputs": [],
   "source": [
    "combined = pd.read_csv('aac_intakes_outcomes.csv')"
   ]
  },
  {
   "cell_type": "code",
   "execution_count": 269,
   "metadata": {},
   "outputs": [],
   "source": [
    "#combined.info()"
   ]
  },
  {
   "cell_type": "code",
   "execution_count": 270,
   "metadata": {},
   "outputs": [],
   "source": [
    "#select columns\n",
    "combined = combined[['outcome_type','animal_type','intake_condition','intake_type','age_upon_intake_age_group']]"
   ]
  },
  {
   "cell_type": "code",
   "execution_count": 271,
   "metadata": {},
   "outputs": [],
   "source": [
    "#Drop missing value\n",
    "combined = combined.dropna()"
   ]
  },
  {
   "cell_type": "code",
   "execution_count": 272,
   "metadata": {},
   "outputs": [
    {
     "data": {
      "text/plain": [
       "Adoption           33594\n",
       "Transfer           23799\n",
       "Return to Owner    14791\n",
       "Euthanasia          6244\n",
       "Died                 690\n",
       "Disposal             304\n",
       "Rto-Adopt            179\n",
       "Missing               46\n",
       "Relocate              15\n",
       "Name: outcome_type, dtype: int64"
      ]
     },
     "execution_count": 272,
     "metadata": {},
     "output_type": "execute_result"
    }
   ],
   "source": [
    "combined.outcome_type.value_counts()"
   ]
  },
  {
   "cell_type": "code",
   "execution_count": 273,
   "metadata": {},
   "outputs": [],
   "source": [
    "#drop the rows with rare situations\n",
    "combined = combined.loc[(combined.outcome_type == 'Adoption') | (combined.outcome_type == 'Transfer') | (combined.outcome_type == 'Return to Owner') | (combined.outcome_type == 'Euthanasia')]"
   ]
  },
  {
   "cell_type": "code",
   "execution_count": 274,
   "metadata": {},
   "outputs": [
    {
     "name": "stdout",
     "output_type": "stream",
     "text": [
      "<class 'pandas.core.frame.DataFrame'>\n",
      "Int64Index: 78428 entries, 0 to 79671\n",
      "Data columns (total 5 columns):\n",
      "outcome_type                 78428 non-null object\n",
      "animal_type                  78428 non-null object\n",
      "intake_condition             78428 non-null object\n",
      "intake_type                  78428 non-null object\n",
      "age_upon_intake_age_group    78428 non-null object\n",
      "dtypes: object(5)\n",
      "memory usage: 3.6+ MB\n"
     ]
    }
   ],
   "source": [
    "combined.info()"
   ]
  },
  {
   "cell_type": "code",
   "execution_count": 275,
   "metadata": {},
   "outputs": [
    {
     "data": {
      "text/plain": [
       "Adoption           33594\n",
       "Transfer           23799\n",
       "Return to Owner    14791\n",
       "Euthanasia          6244\n",
       "Name: outcome_type, dtype: int64"
      ]
     },
     "execution_count": 275,
     "metadata": {},
     "output_type": "execute_result"
    }
   ],
   "source": [
    "combined.outcome_type.value_counts()"
   ]
  },
  {
   "cell_type": "markdown",
   "metadata": {},
   "source": [
    "# Model to predict the outcome of animals"
   ]
  },
  {
   "cell_type": "code",
   "execution_count": 276,
   "metadata": {},
   "outputs": [],
   "source": [
    "#sample features and labels\n",
    "X = combined[['animal_type','intake_condition','intake_type','age_upon_intake_age_group']]\n",
    "y = combined.outcome_type"
   ]
  },
  {
   "cell_type": "code",
   "execution_count": 277,
   "metadata": {},
   "outputs": [
    {
     "data": {
      "text/html": [
       "<div>\n",
       "<style scoped>\n",
       "    .dataframe tbody tr th:only-of-type {\n",
       "        vertical-align: middle;\n",
       "    }\n",
       "\n",
       "    .dataframe tbody tr th {\n",
       "        vertical-align: top;\n",
       "    }\n",
       "\n",
       "    .dataframe thead th {\n",
       "        text-align: right;\n",
       "    }\n",
       "</style>\n",
       "<table border=\"1\" class=\"dataframe\">\n",
       "  <thead>\n",
       "    <tr style=\"text-align: right;\">\n",
       "      <th></th>\n",
       "      <th>animal_type</th>\n",
       "      <th>intake_condition</th>\n",
       "      <th>intake_type</th>\n",
       "      <th>age_upon_intake_age_group</th>\n",
       "    </tr>\n",
       "  </thead>\n",
       "  <tbody>\n",
       "    <tr>\n",
       "      <th>0</th>\n",
       "      <td>2</td>\n",
       "      <td>3</td>\n",
       "      <td>3</td>\n",
       "      <td>9</td>\n",
       "    </tr>\n",
       "    <tr>\n",
       "      <th>1</th>\n",
       "      <td>2</td>\n",
       "      <td>3</td>\n",
       "      <td>2</td>\n",
       "      <td>8</td>\n",
       "    </tr>\n",
       "    <tr>\n",
       "      <th>2</th>\n",
       "      <td>2</td>\n",
       "      <td>3</td>\n",
       "      <td>2</td>\n",
       "      <td>8</td>\n",
       "    </tr>\n",
       "    <tr>\n",
       "      <th>3</th>\n",
       "      <td>2</td>\n",
       "      <td>3</td>\n",
       "      <td>1</td>\n",
       "      <td>9</td>\n",
       "    </tr>\n",
       "    <tr>\n",
       "      <th>4</th>\n",
       "      <td>2</td>\n",
       "      <td>2</td>\n",
       "      <td>2</td>\n",
       "      <td>3</td>\n",
       "    </tr>\n",
       "  </tbody>\n",
       "</table>\n",
       "</div>"
      ],
      "text/plain": [
       "   animal_type  intake_condition  intake_type  age_upon_intake_age_group\n",
       "0            2                 3            3                          9\n",
       "1            2                 3            2                          8\n",
       "2            2                 3            2                          8\n",
       "3            2                 3            1                          9\n",
       "4            2                 2            2                          3"
      ]
     },
     "execution_count": 277,
     "metadata": {},
     "output_type": "execute_result"
    }
   ],
   "source": [
    "#get dummy variable\n",
    "from sklearn import preprocessing\n",
    "\n",
    "#encode labels with value between 0 and n_classes-1.\n",
    "le = preprocessing.LabelEncoder()\n",
    "\n",
    "# use df.apply() to apply le.fit_transform to all columns\n",
    "X_2 = X.apply(le.fit_transform)\n",
    "X_2.head()"
   ]
  },
  {
   "cell_type": "code",
   "execution_count": 278,
   "metadata": {},
   "outputs": [
    {
     "data": {
      "text/plain": [
       "array([[0., 0., 1., ..., 0., 0., 1.],\n",
       "       [0., 0., 1., ..., 0., 1., 0.],\n",
       "       [0., 0., 1., ..., 0., 1., 0.],\n",
       "       ...,\n",
       "       [0., 0., 0., ..., 0., 0., 0.],\n",
       "       [0., 0., 1., ..., 0., 0., 0.],\n",
       "       [0., 0., 1., ..., 0., 0., 1.]])"
      ]
     },
     "execution_count": 278,
     "metadata": {},
     "output_type": "execute_result"
    }
   ],
   "source": [
    "#INSTANTIATE\n",
    "enc = preprocessing.OneHotEncoder(categories='auto')\n",
    "\n",
    "#Fit\n",
    "enc.fit(X_2)\n",
    "\n",
    "#Transform\n",
    "X_ohe = enc.transform(X_2).toarray()\n",
    "X_ohe"
   ]
  },
  {
   "cell_type": "markdown",
   "metadata": {},
   "source": [
    "# K-Nearest Neighbors "
   ]
  },
  {
   "cell_type": "code",
   "execution_count": 279,
   "metadata": {},
   "outputs": [],
   "source": [
    "from sklearn import datasets\n",
    "from sklearn.neighbors import KNeighborsClassifier\n",
    "from sklearn.model_selection import train_test_split,GridSearchCV\n"
   ]
  },
  {
   "cell_type": "code",
   "execution_count": 280,
   "metadata": {},
   "outputs": [],
   "source": [
    "#split train and test data with cross validation\n",
    "X_train,X_test,y_train,y_test = train_test_split(X_ohe,y,test_size=0.8,random_state=21,stratify=y)"
   ]
  },
  {
   "cell_type": "code",
   "execution_count": 16,
   "metadata": {},
   "outputs": [
    {
     "name": "stdout",
     "output_type": "stream",
     "text": [
      "({'n_neighbors': 27}, 0.5691424928275423)\n"
     ]
    }
   ],
   "source": [
    "#train KNeighbors model\n",
    "param_grid={'n_neighbors':np.arange(1,30)}\n",
    "knn=KNeighborsClassifier()\n",
    "knn_cv=GridSearchCV(knn,param_grid,cv=5)\n",
    "knn_cv.fit(X_train,y_train)\n",
    "print(knn_cv.best_params_,knn_cv.best_score_)"
   ]
  },
  {
   "cell_type": "markdown",
   "metadata": {},
   "source": [
    "K=27 has the best accurate rate which is 57%."
   ]
  },
  {
   "cell_type": "code",
   "execution_count": 281,
   "metadata": {},
   "outputs": [
    {
     "name": "stdout",
     "output_type": "stream",
     "text": [
      "The accuracy score is 0.57043813652519\n"
     ]
    }
   ],
   "source": [
    "#Use test group to check accuracy of the model\n",
    "\n",
    "from sklearn.metrics import accuracy_score\n",
    "\n",
    "#Train model with best parameter\n",
    "knn=KNeighborsClassifier(n_neighbors=27)\n",
    "knn.fit(X_train,y_train)\n",
    "\n",
    "#predict test data\n",
    "y_predict=knn.predict(X_test)\n",
    "\n",
    "score = accuracy_score(y_predict,y_test)\n",
    "print('The accuracy score is '+str(score))"
   ]
  },
  {
   "cell_type": "markdown",
   "metadata": {},
   "source": [
    "The accuracy score for test data is consistent, which is 57%"
   ]
  },
  {
   "cell_type": "code",
   "execution_count": 292,
   "metadata": {},
   "outputs": [
    {
     "name": "stdout",
     "output_type": "stream",
     "text": [
      "Confusion matrix:\n",
      " [[16629   637  4386  6953]\n",
      " [  369  3260   142   470]\n",
      " [ 2617   349  6483  1756]\n",
      " [ 7261   749   822  9860]]\n",
      "Classifiction report:\n",
      "                  precision    recall  f1-score   support\n",
      "\n",
      "       Adoption       0.62      0.58      0.60     28605\n",
      "     Euthanasia       0.65      0.77      0.71      4241\n",
      "Return to Owner       0.55      0.58      0.56     11205\n",
      "       Transfer       0.52      0.53      0.52     18692\n",
      "\n",
      "       accuracy                           0.58     62743\n",
      "      macro avg       0.58      0.61      0.60     62743\n",
      "   weighted avg       0.58      0.58      0.58     62743\n",
      "\n"
     ]
    }
   ],
   "source": [
    "#confusion materics\n",
    "\n",
    "from sklearn.metrics import classification_report,confusion_matrix\n",
    "\n",
    "confusion1=confusion_matrix(y_predict,y_test)\n",
    "classifiction1=classification_report(y_predict,y_test)\n",
    "\n",
    "print('Confusion matrix:\\n',confusion1)\n",
    "print('Classifiction report:\\n',classifiction1)"
   ]
  },
  {
   "cell_type": "code",
   "execution_count": null,
   "metadata": {},
   "outputs": [],
   "source": []
  },
  {
   "cell_type": "markdown",
   "metadata": {},
   "source": [
    "# RandomForest"
   ]
  },
  {
   "cell_type": "code",
   "execution_count": 67,
   "metadata": {},
   "outputs": [],
   "source": [
    "from sklearn.ensemble import RandomForestClassifier"
   ]
  },
  {
   "cell_type": "code",
   "execution_count": 26,
   "metadata": {},
   "outputs": [
    {
     "name": "stdout",
     "output_type": "stream",
     "text": [
      "({'n_estimators': 1000, 'bootstrap': True, 'criterion': 'gini'}, 0.5813834874083519)\n"
     ]
    }
   ],
   "source": [
    "#train RandomForest Model\n",
    "estimators=[10,100,300,500,800,1000]\n",
    "criterions=['gini','entropy']\n",
    "grid_param_rf={'n_estimators':estimators,'criterion':criterions,'bootstrap':[True,False]}\n",
    "rf=RandomForestClassifier()\n",
    "rf_cv=GridSearchCV(rf,grid_param_rf,cv=5)\n",
    "rf_cv.fit(X_train,y_train)\n",
    "\n",
    "print(rf_cv.best_params_,rf_cv.best_score_)"
   ]
  },
  {
   "cell_type": "markdown",
   "metadata": {},
   "source": [
    "The parameter with best score is n_estimator=1000,bootstrap=True,criterion='gini'. The optimized score is 58%"
   ]
  },
  {
   "cell_type": "code",
   "execution_count": 283,
   "metadata": {},
   "outputs": [
    {
     "name": "stdout",
     "output_type": "stream",
     "text": [
      "The accuracy score is: 0.5767177214988126\n"
     ]
    }
   ],
   "source": [
    "#Check the test data accuracy score\n",
    "\n",
    "#train modelwith best paramter\n",
    "rf=RandomForestClassifier(n_estimators=1000,criterion='gini',bootstrap=True)\n",
    "rf.fit(X_train,y_train)\n",
    "\n",
    "#predict the test data\n",
    "y_predict=rf.predict(X_test)\n",
    "\n",
    "score = accuracy_score(y_predict,y_test)\n",
    "print('The accuracy score is: '+str(score))"
   ]
  },
  {
   "cell_type": "markdown",
   "metadata": {},
   "source": [
    "The test data has similar accuracy, which is 58%"
   ]
  },
  {
   "cell_type": "code",
   "execution_count": 291,
   "metadata": {},
   "outputs": [
    {
     "name": "stdout",
     "output_type": "stream",
     "text": [
      "Confusion matrix:\n",
      " [[16629   637  4386  6953]\n",
      " [  369  3260   142   470]\n",
      " [ 2617   349  6483  1756]\n",
      " [ 7261   749   822  9860]]\n",
      "Classifiction report:\n",
      "                  precision    recall  f1-score   support\n",
      "\n",
      "       Adoption       0.62      0.58      0.60     28605\n",
      "     Euthanasia       0.65      0.77      0.71      4241\n",
      "Return to Owner       0.55      0.58      0.56     11205\n",
      "       Transfer       0.52      0.53      0.52     18692\n",
      "\n",
      "       accuracy                           0.58     62743\n",
      "      macro avg       0.58      0.61      0.60     62743\n",
      "   weighted avg       0.58      0.58      0.58     62743\n",
      "\n"
     ]
    }
   ],
   "source": [
    "#confusion materics\n",
    "\n",
    "confusion2=confusion_matrix(y_predict,y_test)\n",
    "classifiction2=classification_report(y_predict,y_test)\n",
    "\n",
    "print('Confusion matrix:\\n',confusion2)\n",
    "print('Classifiction report:\\n',classifiction2)"
   ]
  },
  {
   "cell_type": "markdown",
   "metadata": {},
   "source": [
    "# Support Vector Machine"
   ]
  },
  {
   "cell_type": "code",
   "execution_count": 69,
   "metadata": {},
   "outputs": [],
   "source": [
    "from sklearn.svm import SVC"
   ]
  },
  {
   "cell_type": "code",
   "execution_count": 31,
   "metadata": {},
   "outputs": [
    {
     "name": "stdout",
     "output_type": "stream",
     "text": [
      "({'kernel': 'rbf', 'C': 10, 'gamma': 0.1}, 0.5820210392094358)\n"
     ]
    }
   ],
   "source": [
    "#train SVM model\n",
    "Cs=[0.01,0.1,1,10]\n",
    "gammas=[0.001,0.01,0.1]\n",
    "kernels=['linear', 'poly', 'rbf', 'sigmoid']\n",
    "param_grid_svc={'C':Cs,'kernel':kernels,'gamma':gammas}\n",
    "svc=SVC()\n",
    "svc_cv=GridSearchCV(svc,param_grid_svc,cv=5)\n",
    "svc_cv.fit(X_train,y_train)\n",
    "\n",
    "print(svc_cv.best_params_,svc_cv.best_score_)"
   ]
  },
  {
   "cell_type": "markdown",
   "metadata": {},
   "source": [
    "The parameter for best score is kerner='rbf',C=10,gamma=0.1. The optimized score is 58%."
   ]
  },
  {
   "cell_type": "code",
   "execution_count": 285,
   "metadata": {},
   "outputs": [
    {
     "name": "stdout",
     "output_type": "stream",
     "text": [
      "The accuracy score is: 0.5774668090464274\n"
     ]
    }
   ],
   "source": [
    "#Check the test data accuracy score\n",
    "\n",
    "#train modelwith best paramter\n",
    "svc=SVC(C=10,kernel='rbf',gamma=0.1)\n",
    "svc.fit(X_train,y_train)\n",
    "\n",
    "#predict the test data\n",
    "y_predict=svc.predict(X_test)\n",
    "\n",
    "score = accuracy_score(y_predict,y_test)\n",
    "print('The accuracy score is: '+str(score))"
   ]
  },
  {
   "cell_type": "markdown",
   "metadata": {},
   "source": [
    "The test data has similar accuracy, which is 58%"
   ]
  },
  {
   "cell_type": "code",
   "execution_count": 290,
   "metadata": {},
   "outputs": [
    {
     "name": "stdout",
     "output_type": "stream",
     "text": [
      "Confusion matrix:\n",
      " [[16629   637  4386  6953]\n",
      " [  369  3260   142   470]\n",
      " [ 2617   349  6483  1756]\n",
      " [ 7261   749   822  9860]]\n",
      "Classifiction report:\n",
      "                  precision    recall  f1-score   support\n",
      "\n",
      "       Adoption       0.62      0.58      0.60     28605\n",
      "     Euthanasia       0.65      0.77      0.71      4241\n",
      "Return to Owner       0.55      0.58      0.56     11205\n",
      "       Transfer       0.52      0.53      0.52     18692\n",
      "\n",
      "       accuracy                           0.58     62743\n",
      "      macro avg       0.58      0.61      0.60     62743\n",
      "   weighted avg       0.58      0.58      0.58     62743\n",
      "\n"
     ]
    }
   ],
   "source": [
    "#confusion materics\n",
    "\n",
    "confusion3=confusion_matrix(y_predict,y_test)\n",
    "classifiction3=classification_report(y_predict,y_test)\n",
    "\n",
    "print('Confusion matrix:\\n',confusion3)\n",
    "print('Classifiction report:\\n',classifiction3)"
   ]
  },
  {
   "cell_type": "markdown",
   "metadata": {},
   "source": [
    "# Model Stacking"
   ]
  },
  {
   "cell_type": "code",
   "execution_count": 189,
   "metadata": {},
   "outputs": [],
   "source": [
    "from sklearn.model_selection import StratifiedKFold"
   ]
  },
  {
   "cell_type": "code",
   "execution_count": 208,
   "metadata": {},
   "outputs": [],
   "source": [
    "y = combined[['outcome_type']]"
   ]
  },
  {
   "cell_type": "code",
   "execution_count": 209,
   "metadata": {},
   "outputs": [
    {
     "name": "stderr",
     "output_type": "stream",
     "text": [
      "/Users/elisechen/anaconda3/envs/TestEnv/lib/python3.7/site-packages/sklearn/preprocessing/label.py:235: DataConversionWarning: A column-vector y was passed when a 1d array was expected. Please change the shape of y to (n_samples, ), for example using ravel().\n",
      "  y = column_or_1d(y, warn=True)\n"
     ]
    },
    {
     "data": {
      "text/plain": [
       "array([2, 2, 2, ..., 1, 2, 1])"
      ]
     },
     "execution_count": 209,
     "metadata": {},
     "output_type": "execute_result"
    }
   ],
   "source": [
    "# use df.apply() to apply le.fit_transform to all columns\n",
    "y_2 = le.fit_transform(y)\n",
    "\n",
    "y_2"
   ]
  },
  {
   "cell_type": "code",
   "execution_count": 210,
   "metadata": {},
   "outputs": [],
   "source": [
    "#reset combined index\n",
    "combined=combined.reindex(range(78428))"
   ]
  },
  {
   "cell_type": "code",
   "execution_count": 211,
   "metadata": {},
   "outputs": [],
   "source": [
    "#define a function to make predictions on n-folds of train and test dataset\n",
    "def Stacking(model,X,y,n_fold,name):\n",
    "    \n",
    "    #create empty dataframe for model result\n",
    "    combined[name]=pd.Series()\n",
    "    i=combined.columns.get_loc(name)\n",
    "    \n",
    "    #split train and test dataset\n",
    "    nfolds=StratifiedKFold(n_splits=n_fold,random_state=1)\n",
    "    \n",
    "    #split train data and test data\n",
    "    for train_i,test_i in nfolds.split(X,y):\n",
    "        X1_train,X1_test=X[train_i],X[test_i]\n",
    "        y1_train,y1_test=y[train_i],y[test_i]\n",
    "\n",
    "        model.fit(X1_train,y1_train)\n",
    "        #store predict result to dataframe\n",
    "        combined.iloc[test_i,i]=model.predict(X1_test)\n",
    "        \n",
    "    return combined[[name]]"
   ]
  },
  {
   "cell_type": "code",
   "execution_count": 212,
   "metadata": {},
   "outputs": [
    {
     "name": "stdout",
     "output_type": "stream",
     "text": [
      "<class 'pandas.core.frame.DataFrame'>\n",
      "RangeIndex: 78428 entries, 0 to 78427\n",
      "Data columns (total 1 columns):\n",
      "knn    78428 non-null float64\n",
      "dtypes: float64(1)\n",
      "memory usage: 612.8 KB\n"
     ]
    }
   ],
   "source": [
    "#knn model feature\n",
    "knn_predict=Stacking(model=knn,X=X_ohe,y=y_2,n_fold=5,name='knn')\n",
    "knn_predict.info()"
   ]
  },
  {
   "cell_type": "code",
   "execution_count": 213,
   "metadata": {},
   "outputs": [
    {
     "name": "stdout",
     "output_type": "stream",
     "text": [
      "<class 'pandas.core.frame.DataFrame'>\n",
      "RangeIndex: 78428 entries, 0 to 78427\n",
      "Data columns (total 1 columns):\n",
      "rf    78428 non-null float64\n",
      "dtypes: float64(1)\n",
      "memory usage: 612.8 KB\n"
     ]
    }
   ],
   "source": [
    "# Randomforest model feature\n",
    "rf_predict=Stacking(model=rf,X=X_ohe,y=y_2,n_fold=5,name='rf')\n",
    "rf_predict.info()"
   ]
  },
  {
   "cell_type": "code",
   "execution_count": 214,
   "metadata": {},
   "outputs": [
    {
     "name": "stdout",
     "output_type": "stream",
     "text": [
      "<class 'pandas.core.frame.DataFrame'>\n",
      "RangeIndex: 78428 entries, 0 to 78427\n",
      "Data columns (total 1 columns):\n",
      "svc    78428 non-null float64\n",
      "dtypes: float64(1)\n",
      "memory usage: 612.8 KB\n"
     ]
    }
   ],
   "source": [
    "# SVM model feature\n",
    "svc_predict=Stacking(model=svc,X=X_ohe,y=y_2,n_fold=5,name='svc')\n",
    "svc_predict.info()"
   ]
  },
  {
   "cell_type": "code",
   "execution_count": 216,
   "metadata": {},
   "outputs": [
    {
     "name": "stdout",
     "output_type": "stream",
     "text": [
      "<class 'pandas.core.frame.DataFrame'>\n",
      "RangeIndex: 78428 entries, 0 to 78427\n",
      "Data columns (total 3 columns):\n",
      "knn    78428 non-null float64\n",
      "rf     78428 non-null float64\n",
      "svc    78428 non-null float64\n",
      "dtypes: float64(3)\n",
      "memory usage: 1.8 MB\n"
     ]
    }
   ],
   "source": [
    "#concate the result of all model, use it as a feature\n",
    "\n",
    "df = pd.concat([knn_predict, rf_predict,svc_predict], axis=1)\n",
    "df.info()"
   ]
  },
  {
   "cell_type": "code",
   "execution_count": 179,
   "metadata": {},
   "outputs": [],
   "source": [
    "new_X=df[['knn','rf','svc']]\n",
    "new_y=df.outcome_type"
   ]
  },
  {
   "cell_type": "code",
   "execution_count": 248,
   "metadata": {},
   "outputs": [],
   "source": [
    "#split train and test data with cross validation\n",
    "new_X_train,new_X_test,new_y_train,new_y_test = train_test_split(df,y,test_size=0.5,random_state=21,stratify=y)"
   ]
  },
  {
   "cell_type": "code",
   "execution_count": 245,
   "metadata": {},
   "outputs": [
    {
     "name": "stdout",
     "output_type": "stream",
     "text": [
      "{'C': 0.01, 'multi_class': 'auto', 'solver': 'lbfgs'} 0.469704697301984\n"
     ]
    }
   ],
   "source": [
    "Cs=[0.01,0.1,1,10]\n",
    "param_grid_logreg={'C':Cs,'multi_class':['auto'],'solver':['lbfgs']}\n",
    "logreg=LogisticRegression()\n",
    "logreg_cv=GridSearchCV(logreg,param_grid_logreg,cv=5)\n",
    "logreg_cv.fit(new_X_train,new_y_train)\n",
    "print(logreg_cv.best_params_,logreg_cv.best_score_)"
   ]
  },
  {
   "cell_type": "code",
   "execution_count": 287,
   "metadata": {},
   "outputs": [
    {
     "name": "stdout",
     "output_type": "stream",
     "text": [
      "The accuracy socre of second model is 0.46835313918498495\n"
     ]
    }
   ],
   "source": [
    "#train the second model\n",
    "model=LogisticRegression(C=0.01,multi_class='auto',solver='lbfgs')\n",
    "model.fit(new_X_train,new_y_train)\n",
    "prediction=model.predict(new_X_test)\n",
    "model_score=accuracy_score(new_y_test,prediction)\n",
    "print(\"The accuracy socre of second model is \"+str(model_score))"
   ]
  },
  {
   "cell_type": "code",
   "execution_count": 289,
   "metadata": {},
   "outputs": [
    {
     "name": "stdout",
     "output_type": "stream",
     "text": [
      "Confusion matrix:\n",
      " [[12183     1     0  4613]\n",
      " [ 2668     3     0   451]\n",
      " [ 6852     1     0   542]\n",
      " [ 5716     4     0  6180]]\n",
      "Classifiction report:\n",
      "                  precision    recall  f1-score   support\n",
      "\n",
      "       Adoption       0.44      0.73      0.55     16797\n",
      "     Euthanasia       0.33      0.00      0.00      3122\n",
      "Return to Owner       0.00      0.00      0.00      7395\n",
      "       Transfer       0.52      0.52      0.52     11900\n",
      "\n",
      "       accuracy                           0.47     39214\n",
      "      macro avg       0.33      0.31      0.27     39214\n",
      "   weighted avg       0.38      0.47      0.39     39214\n",
      "\n"
     ]
    }
   ],
   "source": [
    "#confusion materics\n",
    "\n",
    "from sklearn.metrics import classification_report,confusion_matrix\n",
    "\n",
    "print('Confusion matrix:\\n',confusion_matrix(new_y_test,prediction))\n",
    "print('Classifiction report:\\n',classification_report(new_y_test,prediction))"
   ]
  },
  {
   "cell_type": "code",
   "execution_count": null,
   "metadata": {},
   "outputs": [],
   "source": []
  },
  {
   "cell_type": "code",
   "execution_count": null,
   "metadata": {},
   "outputs": [],
   "source": []
  },
  {
   "cell_type": "code",
   "execution_count": null,
   "metadata": {},
   "outputs": [],
   "source": []
  },
  {
   "cell_type": "code",
   "execution_count": null,
   "metadata": {},
   "outputs": [],
   "source": []
  },
  {
   "cell_type": "code",
   "execution_count": null,
   "metadata": {},
   "outputs": [],
   "source": []
  },
  {
   "cell_type": "code",
   "execution_count": null,
   "metadata": {},
   "outputs": [],
   "source": []
  },
  {
   "cell_type": "code",
   "execution_count": null,
   "metadata": {},
   "outputs": [],
   "source": []
  },
  {
   "cell_type": "code",
   "execution_count": null,
   "metadata": {},
   "outputs": [],
   "source": []
  },
  {
   "cell_type": "code",
   "execution_count": null,
   "metadata": {},
   "outputs": [],
   "source": []
  },
  {
   "cell_type": "code",
   "execution_count": null,
   "metadata": {},
   "outputs": [],
   "source": []
  },
  {
   "cell_type": "code",
   "execution_count": null,
   "metadata": {},
   "outputs": [],
   "source": []
  },
  {
   "cell_type": "code",
   "execution_count": null,
   "metadata": {},
   "outputs": [],
   "source": []
  },
  {
   "cell_type": "code",
   "execution_count": null,
   "metadata": {},
   "outputs": [],
   "source": []
  },
  {
   "cell_type": "code",
   "execution_count": null,
   "metadata": {},
   "outputs": [],
   "source": []
  },
  {
   "cell_type": "code",
   "execution_count": null,
   "metadata": {},
   "outputs": [],
   "source": []
  }
 ],
 "metadata": {
  "kernelspec": {
   "display_name": "Python 3",
   "language": "python",
   "name": "python3"
  },
  "language_info": {
   "codemirror_mode": {
    "name": "ipython",
    "version": 3
   },
   "file_extension": ".py",
   "mimetype": "text/x-python",
   "name": "python",
   "nbconvert_exporter": "python",
   "pygments_lexer": "ipython3",
   "version": "3.7.3"
  }
 },
 "nbformat": 4,
 "nbformat_minor": 2
}
