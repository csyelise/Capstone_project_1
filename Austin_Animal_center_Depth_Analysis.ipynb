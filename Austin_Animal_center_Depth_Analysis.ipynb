{
 "cells": [
  {
   "cell_type": "markdown",
   "metadata": {},
   "source": [
    "# Austin_Animal_Center_Machine_Learning"
   ]
  },
  {
   "cell_type": "code",
   "execution_count": 1,
   "metadata": {},
   "outputs": [],
   "source": [
    "import pandas as pd\n",
    "import matplotlib.pyplot as plt\n",
    "import numpy as np\n"
   ]
  },
  {
   "cell_type": "code",
   "execution_count": 2,
   "metadata": {},
   "outputs": [],
   "source": [
    "combined = pd.read_csv('aac_intakes_outcomes.csv')"
   ]
  },
  {
   "cell_type": "code",
   "execution_count": 3,
   "metadata": {},
   "outputs": [],
   "source": [
    "#combined.info()"
   ]
  },
  {
   "cell_type": "code",
   "execution_count": 4,
   "metadata": {},
   "outputs": [],
   "source": [
    "#select columns\n",
    "combined = combined[['outcome_type','animal_type','intake_condition','intake_type','age_upon_intake_age_group']]"
   ]
  },
  {
   "cell_type": "code",
   "execution_count": 5,
   "metadata": {},
   "outputs": [],
   "source": [
    "#Drop missing value\n",
    "combined = combined.dropna()"
   ]
  },
  {
   "cell_type": "code",
   "execution_count": 6,
   "metadata": {},
   "outputs": [
    {
     "data": {
      "text/plain": [
       "Adoption           33594\n",
       "Transfer           23799\n",
       "Return to Owner    14791\n",
       "Euthanasia          6244\n",
       "Died                 690\n",
       "Disposal             304\n",
       "Rto-Adopt            179\n",
       "Missing               46\n",
       "Relocate              15\n",
       "Name: outcome_type, dtype: int64"
      ]
     },
     "execution_count": 6,
     "metadata": {},
     "output_type": "execute_result"
    }
   ],
   "source": [
    "combined.outcome_type.value_counts()"
   ]
  },
  {
   "cell_type": "code",
   "execution_count": 7,
   "metadata": {},
   "outputs": [],
   "source": [
    "#drop the rows with rare situations\n",
    "combined = combined.loc[(combined.outcome_type == 'Adoption') | (combined.outcome_type == 'Transfer') | (combined.outcome_type == 'Return to Owner') | (combined.outcome_type == 'Euthanasia')]"
   ]
  },
  {
   "cell_type": "code",
   "execution_count": 8,
   "metadata": {},
   "outputs": [
    {
     "name": "stdout",
     "output_type": "stream",
     "text": [
      "<class 'pandas.core.frame.DataFrame'>\n",
      "Int64Index: 78428 entries, 0 to 79671\n",
      "Data columns (total 5 columns):\n",
      "outcome_type                 78428 non-null object\n",
      "animal_type                  78428 non-null object\n",
      "intake_condition             78428 non-null object\n",
      "intake_type                  78428 non-null object\n",
      "age_upon_intake_age_group    78428 non-null object\n",
      "dtypes: object(5)\n",
      "memory usage: 3.6+ MB\n"
     ]
    }
   ],
   "source": [
    "combined.info()"
   ]
  },
  {
   "cell_type": "code",
   "execution_count": 9,
   "metadata": {},
   "outputs": [
    {
     "data": {
      "text/plain": [
       "Adoption           33594\n",
       "Transfer           23799\n",
       "Return to Owner    14791\n",
       "Euthanasia          6244\n",
       "Name: outcome_type, dtype: int64"
      ]
     },
     "execution_count": 9,
     "metadata": {},
     "output_type": "execute_result"
    }
   ],
   "source": [
    "combined.outcome_type.value_counts()"
   ]
  },
  {
   "cell_type": "markdown",
   "metadata": {},
   "source": [
    "# Model to predict the outcome of animals"
   ]
  },
  {
   "cell_type": "code",
   "execution_count": 10,
   "metadata": {},
   "outputs": [],
   "source": [
    "#sample features and labels\n",
    "X = combined[['animal_type','intake_condition','intake_type','age_upon_intake_age_group']]\n",
    "y = combined.outcome_type"
   ]
  },
  {
   "cell_type": "code",
   "execution_count": 11,
   "metadata": {},
   "outputs": [
    {
     "data": {
      "text/html": [
       "<div>\n",
       "<style scoped>\n",
       "    .dataframe tbody tr th:only-of-type {\n",
       "        vertical-align: middle;\n",
       "    }\n",
       "\n",
       "    .dataframe tbody tr th {\n",
       "        vertical-align: top;\n",
       "    }\n",
       "\n",
       "    .dataframe thead th {\n",
       "        text-align: right;\n",
       "    }\n",
       "</style>\n",
       "<table border=\"1\" class=\"dataframe\">\n",
       "  <thead>\n",
       "    <tr style=\"text-align: right;\">\n",
       "      <th></th>\n",
       "      <th>animal_type</th>\n",
       "      <th>intake_condition</th>\n",
       "      <th>intake_type</th>\n",
       "      <th>age_upon_intake_age_group</th>\n",
       "    </tr>\n",
       "  </thead>\n",
       "  <tbody>\n",
       "    <tr>\n",
       "      <th>0</th>\n",
       "      <td>2</td>\n",
       "      <td>3</td>\n",
       "      <td>3</td>\n",
       "      <td>9</td>\n",
       "    </tr>\n",
       "    <tr>\n",
       "      <th>1</th>\n",
       "      <td>2</td>\n",
       "      <td>3</td>\n",
       "      <td>2</td>\n",
       "      <td>8</td>\n",
       "    </tr>\n",
       "    <tr>\n",
       "      <th>2</th>\n",
       "      <td>2</td>\n",
       "      <td>3</td>\n",
       "      <td>2</td>\n",
       "      <td>8</td>\n",
       "    </tr>\n",
       "    <tr>\n",
       "      <th>3</th>\n",
       "      <td>2</td>\n",
       "      <td>3</td>\n",
       "      <td>1</td>\n",
       "      <td>9</td>\n",
       "    </tr>\n",
       "    <tr>\n",
       "      <th>4</th>\n",
       "      <td>2</td>\n",
       "      <td>2</td>\n",
       "      <td>2</td>\n",
       "      <td>3</td>\n",
       "    </tr>\n",
       "  </tbody>\n",
       "</table>\n",
       "</div>"
      ],
      "text/plain": [
       "   animal_type  intake_condition  intake_type  age_upon_intake_age_group\n",
       "0            2                 3            3                          9\n",
       "1            2                 3            2                          8\n",
       "2            2                 3            2                          8\n",
       "3            2                 3            1                          9\n",
       "4            2                 2            2                          3"
      ]
     },
     "execution_count": 11,
     "metadata": {},
     "output_type": "execute_result"
    }
   ],
   "source": [
    "#get dummy variable\n",
    "from sklearn import preprocessing\n",
    "\n",
    "#encode labels with value between 0 and n_classes-1.\n",
    "le = preprocessing.LabelEncoder()\n",
    "\n",
    "# use df.apply() to apply le.fit_transform to all columns\n",
    "X_2 = X.apply(le.fit_transform)\n",
    "X_2.head()"
   ]
  },
  {
   "cell_type": "code",
   "execution_count": 12,
   "metadata": {},
   "outputs": [
    {
     "data": {
      "text/plain": [
       "array([[0., 0., 1., ..., 0., 0., 1.],\n",
       "       [0., 0., 1., ..., 0., 1., 0.],\n",
       "       [0., 0., 1., ..., 0., 1., 0.],\n",
       "       ...,\n",
       "       [0., 0., 0., ..., 0., 0., 0.],\n",
       "       [0., 0., 1., ..., 0., 0., 0.],\n",
       "       [0., 0., 1., ..., 0., 0., 1.]])"
      ]
     },
     "execution_count": 12,
     "metadata": {},
     "output_type": "execute_result"
    }
   ],
   "source": [
    "#INSTANTIATE\n",
    "enc = preprocessing.OneHotEncoder(categories='auto')\n",
    "\n",
    "#Fit\n",
    "enc.fit(X_2)\n",
    "\n",
    "#Transform\n",
    "X_ohe = enc.transform(X_2).toarray()\n",
    "X_ohe"
   ]
  },
  {
   "cell_type": "markdown",
   "metadata": {},
   "source": [
    "# K-Nearest Neighbors "
   ]
  },
  {
   "cell_type": "code",
   "execution_count": 13,
   "metadata": {},
   "outputs": [],
   "source": [
    "from sklearn import datasets\n",
    "from sklearn.neighbors import KNeighborsClassifier\n",
    "from sklearn.model_selection import train_test_split,GridSearchCV\n"
   ]
  },
  {
   "cell_type": "code",
   "execution_count": 14,
   "metadata": {},
   "outputs": [],
   "source": [
    "#split train and test data with cross validation\n",
    "X_train,X_test,y_train,y_test = train_test_split(X_ohe,y,test_size=0.8,random_state=21,stratify=y)"
   ]
  },
  {
   "cell_type": "code",
   "execution_count": 16,
   "metadata": {},
   "outputs": [
    {
     "name": "stdout",
     "output_type": "stream",
     "text": [
      "({'n_neighbors': 27}, 0.5691424928275423)\n"
     ]
    }
   ],
   "source": [
    "#train KNeighbors model\n",
    "param_grid={'n_neighbors':np.arange(1,30)}\n",
    "knn=KNeighborsClassifier()\n",
    "knn_cv=GridSearchCV(knn,param_grid,cv=5)\n",
    "knn_cv.fit(X_train,y_train)\n",
    "print(knn_cv.best_params_,knn_cv.best_score_)"
   ]
  },
  {
   "cell_type": "markdown",
   "metadata": {},
   "source": [
    "K=27 has the best accurate rate which is 57%."
   ]
  },
  {
   "cell_type": "code",
   "execution_count": 59,
   "metadata": {},
   "outputs": [
    {
     "name": "stdout",
     "output_type": "stream",
     "text": [
      "The accuracy score is 0.57043813652519\n"
     ]
    }
   ],
   "source": [
    "#Use test group to check accuracy of the model\n",
    "\n",
    "from sklearn.metrics import accuracy_score\n",
    "\n",
    "#Train model with best parameter\n",
    "knn=KNeighborsClassifier(n_neighbors=27)\n",
    "knn.fit(X_train,y_train)\n",
    "\n",
    "#predict test data\n",
    "y_predict=knn.predict(X_test)\n",
    "\n",
    "score = accuracy_score(y_predict,y_test)\n",
    "print('The accuracy score is '+str(score))"
   ]
  },
  {
   "cell_type": "markdown",
   "metadata": {},
   "source": [
    "The accuracy score for test data is consistent, which is 57%"
   ]
  },
  {
   "cell_type": "code",
   "execution_count": 26,
   "metadata": {},
   "outputs": [
    {
     "name": "stdout",
     "output_type": "stream",
     "text": [
      "Confusion matrix:\n",
      " [[16490   842  4393  7052]\n",
      " [  409  3135   184   454]\n",
      " [ 2662   392  6437  1804]\n",
      " [ 7315   626   819  9729]]\n",
      "Classifiction report:\n",
      "                  precision    recall  f1-score   support\n",
      "\n",
      "       Adoption       0.61      0.57      0.59     28777\n",
      "     Euthanasia       0.63      0.75      0.68      4182\n",
      "Return to Owner       0.54      0.57      0.56     11295\n",
      "       Transfer       0.51      0.53      0.52     18489\n",
      "\n",
      "       accuracy                           0.57     62743\n",
      "      macro avg       0.57      0.60      0.59     62743\n",
      "   weighted avg       0.57      0.57      0.57     62743\n",
      "\n"
     ]
    }
   ],
   "source": [
    "#confusion materics\n",
    "\n",
    "from sklearn.metrics import classification_report,confusion_matrix\n",
    "\n",
    "confusion1=confusion_matrix(y_predict,y_test)\n",
    "classifiction1=classification_report(y_predict,y_test)\n",
    "\n",
    "print('Confusion matrix:\\n',confusion1)\n",
    "print('Classifiction report:\\n',classifiction1)"
   ]
  },
  {
   "cell_type": "code",
   "execution_count": 46,
   "metadata": {},
   "outputs": [
    {
     "data": {
      "image/png": "[encoded data removed]",
      "text/plain": [
       "<Figure size 432x288 with 2 Axes>"
      ]
     },
     "metadata": {
      "needs_background": "light"
     },
     "output_type": "display_data"
    }
   ],
   "source": [
    "# plot comfusion matrix\n",
    "\n",
    "from sklearn.utils.multiclass import unique_labels\n",
    "\n",
    "fig, ax = plt.subplots()\n",
    "im = ax.imshow(confusion1, interpolation='nearest',cmap=\"Blues\")\n",
    "ax.figure.colorbar(im, ax=ax)\n",
    "classes = unique_labels(y_predict,y_test)\n",
    "ax.set(xticks=np.arange(confusion1.shape[1]),yticks=np.arange(confusion1.shape[0]),xticklabels=classes, yticklabels=classes, title='KNN Confusion matrix', ylabel='True',xlabel='Predicted')\n",
    "\n",
    "# Rotate the tick labels and set their alignment.\n",
    "plt.setp(ax.get_xticklabels(), rotation=45, ha=\"right\",rotation_mode=\"anchor\")\n",
    "\n",
    "# Loop over data dimensions and create text annotations.\n",
    "thresh = confusion1.max() / 2\n",
    "for i in range(confusion1.shape[0]):\n",
    "        for j in range(confusion1.shape[1]):\n",
    "            ax.text(j, i, format(confusion1[i, j], 'd'),\n",
    "                    ha=\"center\", va=\"center\",\n",
    "                    color=\"white\" if confusion1[i, j] > thresh else \"black\")\n",
    "fig.tight_layout()"
   ]
  },
  {
   "cell_type": "markdown",
   "metadata": {},
   "source": [
    "# RandomForest"
   ]
  },
  {
   "cell_type": "code",
   "execution_count": 42,
   "metadata": {},
   "outputs": [],
   "source": [
    "from sklearn.ensemble import RandomForestClassifier"
   ]
  },
  {
   "cell_type": "code",
   "execution_count": 43,
   "metadata": {},
   "outputs": [
    {
     "name": "stdout",
     "output_type": "stream",
     "text": [
      "{'bootstrap': True, 'criterion': 'entropy', 'n_estimators': 800} 0.5813197322282435\n"
     ]
    }
   ],
   "source": [
    "#train RandomForest Model\n",
    "estimators=[10,100,300,500,800,1000]\n",
    "criterions=['gini','entropy']\n",
    "grid_param_rf={'n_estimators':estimators,'criterion':criterions,'bootstrap':[True,False]}\n",
    "rf=RandomForestClassifier()\n",
    "rf_cv=GridSearchCV(rf,grid_param_rf,cv=5)\n",
    "rf_cv.fit(X_train,y_train)\n",
    "\n",
    "print(rf_cv.best_params_,rf_cv.best_score_)"
   ]
  },
  {
   "cell_type": "markdown",
   "metadata": {},
   "source": [
    "The parameter with best score is n_estimator=1000,bootstrap=True,criterion='gini'. The optimized score is 58%"
   ]
  },
  {
   "cell_type": "code",
   "execution_count": 60,
   "metadata": {},
   "outputs": [
    {
     "name": "stdout",
     "output_type": "stream",
     "text": [
      "The accuracy score is: 0.5764308369061091\n"
     ]
    }
   ],
   "source": [
    "#Check the test data accuracy score\n",
    "\n",
    "#train modelwith best paramter\n",
    "rf=RandomForestClassifier(n_estimators=1000,criterion='gini',bootstrap=True)\n",
    "rf.fit(X_train,y_train)\n",
    "\n",
    "#predict the test data\n",
    "y_predict=rf.predict(X_test)\n",
    "\n",
    "score = accuracy_score(y_predict,y_test)\n",
    "print('The accuracy score is: '+str(score))"
   ]
  },
  {
   "cell_type": "markdown",
   "metadata": {},
   "source": [
    "The test data has similar accuracy, which is 58%"
   ]
  },
  {
   "cell_type": "code",
   "execution_count": 48,
   "metadata": {},
   "outputs": [
    {
     "name": "stdout",
     "output_type": "stream",
     "text": [
      "Confusion matrix:\n",
      " [[16664   653  4423  6991]\n",
      " [  394  3277   153   507]\n",
      " [ 2621   377  6490  1781]\n",
      " [ 7197   688   767  9760]]\n",
      "Classifiction report:\n",
      "                  precision    recall  f1-score   support\n",
      "\n",
      "       Adoption       0.62      0.58      0.60     28731\n",
      "     Euthanasia       0.66      0.76      0.70      4331\n",
      "Return to Owner       0.55      0.58      0.56     11269\n",
      "       Transfer       0.51      0.53      0.52     18412\n",
      "\n",
      "       accuracy                           0.58     62743\n",
      "      macro avg       0.58      0.61      0.60     62743\n",
      "   weighted avg       0.58      0.58      0.58     62743\n",
      "\n"
     ]
    }
   ],
   "source": [
    "#confusion materics\n",
    "\n",
    "confusion2=confusion_matrix(y_predict,y_test)\n",
    "classifiction2=classification_report(y_predict,y_test)\n",
    "\n",
    "print('Confusion matrix:\\n',confusion2)\n",
    "print('Classifiction report:\\n',classifiction2)"
   ]
  },
  {
   "cell_type": "code",
   "execution_count": 49,
   "metadata": {},
   "outputs": [
    {
     "data": {
      "image/png": "[encoded data removed]",
      "text/plain": [
       "<Figure size 432x288 with 2 Axes>"
      ]
     },
     "metadata": {
      "needs_background": "light"
     },
     "output_type": "display_data"
    }
   ],
   "source": [
    "# plot comfusion matrix\n",
    "\n",
    "from sklearn.utils.multiclass import unique_labels\n",
    "\n",
    "fig, ax = plt.subplots()\n",
    "im = ax.imshow(confusion2, interpolation='nearest',cmap=\"Blues\")\n",
    "ax.figure.colorbar(im, ax=ax)\n",
    "classes = unique_labels(y_predict,y_test)\n",
    "ax.set(xticks=np.arange(confusion2.shape[1]),yticks=np.arange(confusion2.shape[0]),xticklabels=classes, yticklabels=classes, title='Random Forest Confusion matrix', ylabel='True',xlabel='Predicted')\n",
    "\n",
    "# Rotate the tick labels and set their alignment.\n",
    "plt.setp(ax.get_xticklabels(), rotation=45, ha=\"right\",rotation_mode=\"anchor\")\n",
    "\n",
    "# Loop over data dimensions and create text annotations.\n",
    "thresh = confusion2.max() / 2\n",
    "for i in range(confusion2.shape[0]):\n",
    "        for j in range(confusion2.shape[1]):\n",
    "            ax.text(j, i, format(confusion2[i, j], 'd'),\n",
    "                    ha=\"center\", va=\"center\",\n",
    "                    color=\"white\" if confusion2[i, j] > thresh else \"black\")\n",
    "fig.tight_layout()"
   ]
  },
  {
   "cell_type": "code",
   "execution_count": null,
   "metadata": {},
   "outputs": [],
   "source": []
  },
  {
   "cell_type": "markdown",
   "metadata": {},
   "source": [
    "# Support Vector Machine"
   ]
  },
  {
   "cell_type": "code",
   "execution_count": 50,
   "metadata": {},
   "outputs": [],
   "source": [
    "from sklearn.svm import SVC"
   ]
  },
  {
   "cell_type": "code",
   "execution_count": 31,
   "metadata": {},
   "outputs": [
    {
     "name": "stdout",
     "output_type": "stream",
     "text": [
      "({'kernel': 'rbf', 'C': 10, 'gamma': 0.1}, 0.5820210392094358)\n"
     ]
    }
   ],
   "source": [
    "#train SVM model\n",
    "Cs=[0.01,0.1,1,10]\n",
    "gammas=[0.001,0.01,0.1]\n",
    "kernels=['linear', 'poly', 'rbf', 'sigmoid']\n",
    "param_grid_svc={'C':Cs,'kernel':kernels,'gamma':gammas}\n",
    "svc=SVC()\n",
    "svc_cv=GridSearchCV(svc,param_grid_svc,cv=5)\n",
    "svc_cv.fit(X_train,y_train)\n",
    "\n",
    "print(svc_cv.best_params_,svc_cv.best_score_)"
   ]
  },
  {
   "cell_type": "markdown",
   "metadata": {},
   "source": [
    "The parameter for best score is kerner='rbf',C=10,gamma=0.1. The optimized score is 58%."
   ]
  },
  {
   "cell_type": "code",
   "execution_count": 87,
   "metadata": {},
   "outputs": [
    {
     "name": "stdout",
     "output_type": "stream",
     "text": [
      "The accuracy score is: 0.5774668090464274\n"
     ]
    }
   ],
   "source": [
    "#Check the test data accuracy score\n",
    "\n",
    "#train modelwith best paramter\n",
    "svc=SVC(C=10,kernel='rbf',gamma=0.1,probability=True)\n",
    "svc.fit(X_train,y_train)\n",
    "\n",
    "#predict the test data\n",
    "y_predict=svc.predict(X_test)\n",
    "\n",
    "score = accuracy_score(y_predict,y_test)\n",
    "print('The accuracy score is: '+str(score))"
   ]
  },
  {
   "cell_type": "markdown",
   "metadata": {},
   "source": [
    "The test data has similar accuracy, which is 58%"
   ]
  },
  {
   "cell_type": "code",
   "execution_count": 53,
   "metadata": {},
   "outputs": [
    {
     "name": "stdout",
     "output_type": "stream",
     "text": [
      "Confusion matrix:\n",
      " [[16629   637  4386  6953]\n",
      " [  369  3260   142   470]\n",
      " [ 2617   349  6483  1756]\n",
      " [ 7261   749   822  9860]]\n",
      "Classifiction report:\n",
      "                  precision    recall  f1-score   support\n",
      "\n",
      "       Adoption       0.62      0.58      0.60     28605\n",
      "     Euthanasia       0.65      0.77      0.71      4241\n",
      "Return to Owner       0.55      0.58      0.56     11205\n",
      "       Transfer       0.52      0.53      0.52     18692\n",
      "\n",
      "       accuracy                           0.58     62743\n",
      "      macro avg       0.58      0.61      0.60     62743\n",
      "   weighted avg       0.58      0.58      0.58     62743\n",
      "\n"
     ]
    }
   ],
   "source": [
    "#confusion matrix\n",
    "\n",
    "confusion3=confusion_matrix(y_predict,y_test)\n",
    "classifiction3=classification_report(y_predict,y_test)\n",
    "\n",
    "print('Confusion matrix:\\n',confusion3)\n",
    "print('Classifiction report:\\n',classifiction3)"
   ]
  },
  {
   "cell_type": "code",
   "execution_count": 54,
   "metadata": {},
   "outputs": [
    {
     "data": {
      "image/png": "[encoded data removed]",
      "text/plain": [
       "<Figure size 432x288 with 2 Axes>"
      ]
     },
     "metadata": {
      "needs_background": "light"
     },
     "output_type": "display_data"
    }
   ],
   "source": [
    "# plot comfusion matrix\n",
    "\n",
    "from sklearn.utils.multiclass import unique_labels\n",
    "\n",
    "fig, ax = plt.subplots()\n",
    "im = ax.imshow(confusion3, interpolation='nearest',cmap=\"Blues\")\n",
    "ax.figure.colorbar(im, ax=ax)\n",
    "classes = unique_labels(y_predict,y_test)\n",
    "ax.set(xticks=np.arange(confusion3.shape[1]),yticks=np.arange(confusion3.shape[0]),xticklabels=classes, yticklabels=classes, title='SVM Confusion matrix', ylabel='True',xlabel='Predicted')\n",
    "\n",
    "# Rotate the tick labels and set their alignment.\n",
    "plt.setp(ax.get_xticklabels(), rotation=45, ha=\"right\",rotation_mode=\"anchor\")\n",
    "\n",
    "# Loop over data dimensions and create text annotations.\n",
    "thresh = confusion3.max() / 2\n",
    "for i in range(confusion3.shape[0]):\n",
    "        for j in range(confusion3.shape[1]):\n",
    "            ax.text(j, i, format(confusion3[i, j], 'd'),\n",
    "                    ha=\"center\", va=\"center\",\n",
    "                    color=\"white\" if confusion3[i, j] > thresh else \"black\")\n",
    "fig.tight_layout()"
   ]
  },
  {
   "cell_type": "markdown",
   "metadata": {},
   "source": [
    "# Model Stacking"
   ]
  },
  {
   "cell_type": "code",
   "execution_count": null,
   "metadata": {},
   "outputs": [],
   "source": [
    "#combine the result of 3 basic model"
   ]
  },
  {
   "cell_type": "code",
   "execution_count": 100,
   "metadata": {},
   "outputs": [
    {
     "name": "stderr",
     "output_type": "stream",
     "text": [
      "/Users/elisechen/anaconda3/envs/TestEnv/lib/python3.7/site-packages/sklearn/preprocessing/label.py:235: DataConversionWarning: A column-vector y was passed when a 1d array was expected. Please change the shape of y to (n_samples, ), for example using ravel().\n",
      "  y = column_or_1d(y, warn=True)\n"
     ]
    }
   ],
   "source": [
    "y_new = combined[['outcome_type']]\n",
    "y_new_2 = le.fit_transform(y_new)"
   ]
  },
  {
   "cell_type": "code",
   "execution_count": 88,
   "metadata": {},
   "outputs": [],
   "source": [
    "knn_pred = pd.DataFrame(knn.predict_proba(X_ohe))\n",
    "rf_pred = pd.DataFrame(rf.predict_proba(X_ohe))\n",
    "svc_pred = pd.DataFrame(svc.predict_proba(X_ohe))"
   ]
  },
  {
   "cell_type": "code",
   "execution_count": 128,
   "metadata": {},
   "outputs": [],
   "source": [
    "X_new = pd.concat((knn_pred,rf_pred,svc_pred),axis=1)"
   ]
  },
  {
   "cell_type": "code",
   "execution_count": 129,
   "metadata": {},
   "outputs": [],
   "source": [
    "#split train and test data with cross validation\n",
    "new_X_train,new_X_test,new_y_train,new_y_test = train_test_split(X_new,y_new_2,test_size=0.8,random_state=21,stratify=y)"
   ]
  },
  {
   "cell_type": "code",
   "execution_count": 130,
   "metadata": {},
   "outputs": [
    {
     "name": "stdout",
     "output_type": "stream",
     "text": [
      "{'C': 10, 'max_iter': 1000, 'multi_class': 'auto', 'solver': 'lbfgs'} 0.5881415364998406\n"
     ]
    }
   ],
   "source": [
    "from sklearn.linear_model import LogisticRegression\n",
    "\n",
    "Cs=[0.01,0.1,1,10]\n",
    "param_grid_logreg={'C':Cs,'multi_class':['auto'],'solver':['lbfgs'],'max_iter':[1000,5000,10000]}\n",
    "logreg=LogisticRegression()\n",
    "logreg_cv=GridSearchCV(logreg,param_grid_logreg,cv=5)\n",
    "logreg_cv.fit(new_X_train,new_y_train)\n",
    "print(logreg_cv.best_params_,logreg_cv.best_score_)"
   ]
  },
  {
   "cell_type": "code",
   "execution_count": 138,
   "metadata": {},
   "outputs": [
    {
     "name": "stdout",
     "output_type": "stream",
     "text": [
      "The accuracy socre of second model is 0.5771663181516805\n"
     ]
    }
   ],
   "source": [
    "#train the second model\n",
    "model=LogisticRegression(C=10,multi_class='auto',solver='lbfgs',max_iter=1000)\n",
    "model.fit(new_X_train,new_y_train)\n",
    "prediction=model.predict(X_new)\n",
    "model_score=accuracy_score(y_new_2,prediction)\n",
    "print(\"The accuracy socre of second model is \"+str(model_score))"
   ]
  },
  {
   "cell_type": "code",
   "execution_count": 144,
   "metadata": {},
   "outputs": [
    {
     "name": "stdout",
     "output_type": "stream",
     "text": [
      "Confusion matrix:\n",
      " [[20806   235  3168  9385]\n",
      " [  799  3719   451  1275]\n",
      " [ 5496   161  7987  1147]\n",
      " [ 8604   379  2062 12754]]\n",
      "Classifiction report:\n",
      "               precision    recall  f1-score   support\n",
      "\n",
      "           0       0.58      0.62      0.60     33594\n",
      "           1       0.83      0.60      0.69      6244\n",
      "           2       0.58      0.54      0.56     14791\n",
      "           3       0.52      0.54      0.53     23799\n",
      "\n",
      "    accuracy                           0.58     78428\n",
      "   macro avg       0.63      0.57      0.60     78428\n",
      "weighted avg       0.58      0.58      0.58     78428\n",
      "\n"
     ]
    }
   ],
   "source": [
    "print('Confusion matrix:\\n',confusion_matrix(y_new_2,prediction))\n",
    "print('Classifiction report:\\n',classification_report(y_new_2,prediction))"
   ]
  },
  {
   "cell_type": "code",
   "execution_count": 145,
   "metadata": {},
   "outputs": [
    {
     "data": {
      "image/png": "[encoded data removed]",
      "text/plain": [
       "<Figure size 432x288 with 2 Axes>"
      ]
     },
     "metadata": {
      "needs_background": "light"
     },
     "output_type": "display_data"
    }
   ],
   "source": [
    "# plot comfusion matrix\n",
    "\n",
    "fig, ax = plt.subplots()\n",
    "im = ax.imshow(confusion_matrix(y_new_2,prediction), interpolation='nearest',cmap=\"Blues\")\n",
    "ax.figure.colorbar(im, ax=ax)\n",
    "classes = unique_labels(y_predict,y_test)\n",
    "ax.set(xticks=np.arange(confusion_matrix(y_new_2,prediction).shape[1]),yticks=np.arange(confusion_matrix(y_new_2,prediction).shape[0]),xticklabels=classes, yticklabels=classes, title='Stacking model Confusion matrix', ylabel='True',xlabel='Predicted')\n",
    "\n",
    "# Rotate the tick labels and set their alignment.\n",
    "plt.setp(ax.get_xticklabels(), rotation=45, ha=\"right\",rotation_mode=\"anchor\")\n",
    "\n",
    "# Loop over data dimensions and create text annotations.\n",
    "thresh = confusion_matrix(y_new_2,prediction).max() / 2\n",
    "for i in range(confusion_matrix(y_new_2,prediction).shape[0]):\n",
    "        for j in range(confusion_matrix(y_new_2,prediction).shape[1]):\n",
    "            ax.text(j, i, format(confusion_matrix(y_new_2,prediction)[i, j], 'd'),\n",
    "                    ha=\"center\", va=\"center\",\n",
    "                    color=\"white\" if confusion_matrix(y_new_2,prediction)[i, j] > thresh else \"black\")\n",
    "fig.tight_layout()"
   ]
  },
  {
   "cell_type": "code",
   "execution_count": null,
   "metadata": {},
   "outputs": [],
   "source": []
  },
  {
   "cell_type": "code",
   "execution_count": null,
   "metadata": {},
   "outputs": [],
   "source": []
  },
  {
   "cell_type": "code",
   "execution_count": null,
   "metadata": {},
   "outputs": [],
   "source": []
  },
  {
   "cell_type": "code",
   "execution_count": null,
   "metadata": {},
   "outputs": [],
   "source": []
  },
  {
   "cell_type": "code",
   "execution_count": null,
   "metadata": {},
   "outputs": [],
   "source": []
  },
  {
   "cell_type": "code",
   "execution_count": null,
   "metadata": {},
   "outputs": [],
   "source": []
  },
  {
   "cell_type": "code",
   "execution_count": null,
   "metadata": {},
   "outputs": [],
   "source": []
  },
  {
   "cell_type": "code",
   "execution_count": null,
   "metadata": {},
   "outputs": [],
   "source": []
  },
  {
   "cell_type": "code",
   "execution_count": null,
   "metadata": {},
   "outputs": [],
   "source": []
  },
  {
   "cell_type": "code",
   "execution_count": null,
   "metadata": {},
   "outputs": [],
   "source": []
  },
  {
   "cell_type": "code",
   "execution_count": null,
   "metadata": {},
   "outputs": [],
   "source": []
  },
  {
   "cell_type": "code",
   "execution_count": null,
   "metadata": {},
   "outputs": [],
   "source": []
  },
  {
   "cell_type": "code",
   "execution_count": null,
   "metadata": {},
   "outputs": [],
   "source": []
  },
  {
   "cell_type": "code",
   "execution_count": null,
   "metadata": {},
   "outputs": [],
   "source": []
  },
  {
   "cell_type": "code",
   "execution_count": null,
   "metadata": {},
   "outputs": [],
   "source": []
  },
  {
   "cell_type": "code",
   "execution_count": null,
   "metadata": {},
   "outputs": [],
   "source": []
  },
  {
   "cell_type": "code",
   "execution_count": null,
   "metadata": {},
   "outputs": [],
   "source": []
  },
  {
   "cell_type": "code",
   "execution_count": null,
   "metadata": {},
   "outputs": [],
   "source": []
  },
  {
   "cell_type": "code",
   "execution_count": null,
   "metadata": {},
   "outputs": [],
   "source": []
  },
  {
   "cell_type": "code",
   "execution_count": null,
   "metadata": {},
   "outputs": [],
   "source": []
  },
  {
   "cell_type": "code",
   "execution_count": null,
   "metadata": {},
   "outputs": [],
   "source": []
  },
  {
   "cell_type": "code",
   "execution_count": null,
   "metadata": {},
   "outputs": [],
   "source": []
  }
 ],
 "metadata": {
  "kernelspec": {
   "display_name": "Python 3",
   "language": "python",
   "name": "python3"
  },
  "language_info": {
   "codemirror_mode": {
    "name": "ipython",
    "version": 3
   },
   "file_extension": ".py",
   "mimetype": "text/x-python",
   "name": "python",
   "nbconvert_exporter": "python",
   "pygments_lexer": "ipython3",
   "version": "3.7.3"
  }
 },
 "nbformat": 4,
 "nbformat_minor": 2
}
